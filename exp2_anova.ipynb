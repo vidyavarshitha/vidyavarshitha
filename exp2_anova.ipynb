{
  "nbformat": 4,
  "nbformat_minor": 0,
  "metadata": {
    "colab": {
      "provenance": [],
      "authorship_tag": "ABX9TyMrjeRVGZhga4j97i5IoH1F",
      "include_colab_link": true
    },
    "kernelspec": {
      "name": "python3",
      "display_name": "Python 3"
    },
    "language_info": {
      "name": "python"
    }
  },
  "cells": [
    {
      "cell_type": "markdown",
      "metadata": {
        "id": "view-in-github",
        "colab_type": "text"
      },
      "source": [
        "<a href=\"https://colab.research.google.com/github/vidyavarshitha/vidyavarshitha/blob/main/exp2_anova.ipynb\" target=\"_parent\"><img src=\"https://colab.research.google.com/assets/colab-badge.svg\" alt=\"Open In Colab\"/></a>"
      ]
    },
    {
      "cell_type": "code",
      "source": [
        "a=[48,73,51,65,87]\n",
        "b=[55,85,70,69,90]\n",
        "c=[84,68,95,74,67]\n",
        "d=a+b+c\n",
        "print(d)\n",
        "t1=0\n",
        "t2=0\n",
        "t3=0\n",
        "for i in a:\n",
        "  t1=t1+i\n",
        "for i in b:\n",
        "  t2=t2+i\n",
        "for i in c:\n",
        "  t3=t3+i\n",
        "print(t1,t2,t3,sep=\"\\n\")\n"
      ],
      "metadata": {
        "colab": {
          "base_uri": "https://localhost:8080/"
        },
        "id": "Xrirl5ZsA59C",
        "outputId": "c7a97d08-aae4-4f54-a107-7d475e8673ff"
      },
      "execution_count": null,
      "outputs": [
        {
          "output_type": "stream",
          "name": "stdout",
          "text": [
            "[48, 73, 51, 65, 87, 55, 85, 70, 69, 90, 84, 68, 95, 74, 67]\n",
            "324\n",
            "369\n",
            "388\n"
          ]
        }
      ]
    },
    {
      "cell_type": "code",
      "source": [
        "n1=len(a)\n",
        "n2=len(b)\n",
        "n3=len(c)\n",
        "n=n1+n2+n3\n",
        "print(n1)\n",
        "print(n2)\n",
        "print(n3)\n",
        "print(n)"
      ],
      "metadata": {
        "colab": {
          "base_uri": "https://localhost:8080/"
        },
        "id": "ReF776OGCkWF",
        "outputId": "dab4a0ec-fc59-4cc1-a793-cb758454ab20"
      },
      "execution_count": null,
      "outputs": [
        {
          "output_type": "stream",
          "name": "stdout",
          "text": [
            "5\n",
            "5\n",
            "5\n",
            "15\n"
          ]
        }
      ]
    },
    {
      "cell_type": "code",
      "source": [
        "y=0\n",
        "for i in range(len(d)):\n",
        "  y=(d[i]*d[i])+y\n",
        "print(y)"
      ],
      "metadata": {
        "colab": {
          "base_uri": "https://localhost:8080/"
        },
        "id": "LF2Gqk_rXIih",
        "outputId": "224848b9-03e0-42b9-c54d-3c65ed7defa4"
      },
      "execution_count": null,
      "outputs": [
        {
          "output_type": "stream",
          "name": "stdout",
          "text": [
            "80709\n"
          ]
        }
      ]
    },
    {
      "cell_type": "code",
      "source": [
        "x=t1+t2+t3\n",
        "print(x)"
      ],
      "metadata": {
        "colab": {
          "base_uri": "https://localhost:8080/"
        },
        "id": "JBGqZnXYHkxZ",
        "outputId": "473a1652-ff64-41ac-8d4b-476a50e734a7"
      },
      "execution_count": null,
      "outputs": [
        {
          "output_type": "stream",
          "name": "stdout",
          "text": [
            "1081\n"
          ]
        }
      ]
    },
    {
      "cell_type": "code",
      "source": [
        "l=x*x\n",
        "l"
      ],
      "metadata": {
        "colab": {
          "base_uri": "https://localhost:8080/"
        },
        "id": "NzGlUOlqPfhm",
        "outputId": "563651c8-75b8-41fc-9687-588f2c56d764"
      },
      "execution_count": null,
      "outputs": [
        {
          "output_type": "execute_result",
          "data": {
            "text/plain": [
              "1168561"
            ]
          },
          "metadata": {},
          "execution_count": 55
        }
      ]
    },
    {
      "cell_type": "code",
      "source": [
        "s=((t1*t1)/n1+(t2*t2)/n2+(t3*t3)/n3)\n",
        "ssb=s-l/15\n",
        "ssb"
      ],
      "metadata": {
        "colab": {
          "base_uri": "https://localhost:8080/"
        },
        "id": "lG3Z00hZPtqY",
        "outputId": "2f1b8e53-1548-4c64-b088-116f4a165e86"
      },
      "execution_count": null,
      "outputs": [
        {
          "output_type": "execute_result",
          "data": {
            "text/plain": [
              "432.1333333333314"
            ]
          },
          "metadata": {},
          "execution_count": 62
        }
      ]
    },
    {
      "cell_type": "code",
      "source": [
        "ssw=y-s\n",
        "ssw"
      ],
      "metadata": {
        "colab": {
          "base_uri": "https://localhost:8080/"
        },
        "id": "N5yHpYKGQWaP",
        "outputId": "20265686-41ed-429f-d63c-0f980406d0ca"
      },
      "execution_count": null,
      "outputs": [
        {
          "output_type": "execute_result",
          "data": {
            "text/plain": [
              "2372.800000000003"
            ]
          },
          "metadata": {},
          "execution_count": 66
        }
      ]
    },
    {
      "cell_type": "code",
      "source": [
        "sst=ssb+ssw\n",
        "sst"
      ],
      "metadata": {
        "colab": {
          "base_uri": "https://localhost:8080/"
        },
        "id": "Ud9TX3cfRoYE",
        "outputId": "2827de0a-1a18-4a00-d4d5-428bc979c507"
      },
      "execution_count": null,
      "outputs": [
        {
          "output_type": "execute_result",
          "data": {
            "text/plain": [
              "2804.9333333333343"
            ]
          },
          "metadata": {},
          "execution_count": 64
        }
      ]
    },
    {
      "cell_type": "code",
      "source": [
        "k=len(d)/len(a)\n",
        "k\n",
        "msb=ssb/(k-1)\n",
        "msb"
      ],
      "metadata": {
        "colab": {
          "base_uri": "https://localhost:8080/"
        },
        "id": "KbOZ95g9SQ74",
        "outputId": "fd4b254d-3e37-44c0-8def-c84885541082"
      },
      "execution_count": null,
      "outputs": [
        {
          "output_type": "execute_result",
          "data": {
            "text/plain": [
              "216.0666666666657"
            ]
          },
          "metadata": {},
          "execution_count": 71
        }
      ]
    },
    {
      "cell_type": "code",
      "source": [
        "msw=ssw/(n-k)\n",
        "msw"
      ],
      "metadata": {
        "colab": {
          "base_uri": "https://localhost:8080/"
        },
        "id": "w_5-Hr2-TKrS",
        "outputId": "7d96a4da-930a-4f88-e1d2-97dbbd6b2619"
      },
      "execution_count": null,
      "outputs": [
        {
          "output_type": "execute_result",
          "data": {
            "text/plain": [
              "197.73333333333358"
            ]
          },
          "metadata": {},
          "execution_count": 72
        }
      ]
    },
    {
      "cell_type": "code",
      "source": [
        "f=msb/msw\n",
        "f"
      ],
      "metadata": {
        "colab": {
          "base_uri": "https://localhost:8080/"
        },
        "id": "7SSQ2wv3Unea",
        "outputId": "1b77e9ec-4252-445a-9530-968dd449eea4"
      },
      "execution_count": null,
      "outputs": [
        {
          "output_type": "execute_result",
          "data": {
            "text/plain": [
              "1.09271746459878"
            ]
          },
          "metadata": {},
          "execution_count": 73
        }
      ]
    },
    {
      "cell_type": "code",
      "source": [],
      "metadata": {
        "id": "nZ7e-Q-hU_98"
      },
      "execution_count": null,
      "outputs": []
    }
  ]
}